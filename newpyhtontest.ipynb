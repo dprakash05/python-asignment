{
 "cells": [
  {
   "cell_type": "markdown",
   "metadata": {},
   "source": [
    "__1. Given below are a list of positive and negative words. Also a list of\n",
    "comments is provided. Segregate the comments based on positive and\n",
    "negative sentiments.__"
   ]
  },
  {
   "cell_type": "code",
   "execution_count": 1,
   "metadata": {},
   "outputs": [],
   "source": [
    "p = ['good','awesome', 'best', 'nice']   ## p for positive\n",
    "n = ['worst','awful']                    ## n for negative\n",
    "c = ['He is a good boy',                 ## c for comment\n",
    "'Food is the worst here',\n",
    "'He is an awesome player',\n",
    "'She is the best',\n",
    "'This pizza tastes awful',\n",
    "'These burger are really nice']\n",
    "ps=[]                                    ## positive sentence\n",
    "ns=[]                                    ## negative sentence\n",
    "for i in c:\n",
    "    for j in p:\n",
    "        if j in i:                        ## checking positive and negative comments\n",
    "            ps.append(i)\n",
    "    for j in n:\n",
    "        if j in i:\n",
    "            ns.append(i)"
   ]
  },
  {
   "cell_type": "code",
   "execution_count": 2,
   "metadata": {},
   "outputs": [
    {
     "name": "stdout",
     "output_type": "stream",
     "text": [
      "positive coments: ['He is a good boy', 'He is an awesome player', 'She is the best', 'These burger are really nice']\n",
      "negative comments: ['Food is the worst here', 'This pizza tastes awful']\n"
     ]
    }
   ],
   "source": [
    "print(\"positive coments:\",ps)\n",
    "print('negative comments:',ns)"
   ]
  },
  {
   "cell_type": "markdown",
   "metadata": {},
   "source": [
    "__2. Create a dictionary containing three lambda functions square, cube\n",
    "and square root. Pass the values (input from the user)to the functions in the dictionary\n",
    "respectively. Then add the outputs of each function and print it.__\n"
   ]
  },
  {
   "cell_type": "code",
   "execution_count": 15,
   "metadata": {
    "colab": {
     "base_uri": "https://localhost:8080/"
    },
    "id": "R5ZKn8A2S71o",
    "outputId": "04d1c764-2ab4-46ba-a899-c5df534415a6"
   },
   "outputs": [
    {
     "name": "stdout",
     "output_type": "stream",
     "text": [
      "enter a number:2\n",
      "\u001b[1mtotal of square, cube & sqroot: 13.414213562373096\n"
     ]
    }
   ],
   "source": [
    "n=int(input(\"enter a number:\"))\n",
    "def addi(n):\n",
    "    d = { 'Square': lambda a : a**2, \n",
    "         'Cube': lambda a : a**3, \n",
    "         'Squareroot': lambda a : a**(1/2)}\n",
    "    sum = 0\n",
    "    for key in d.keys():\n",
    "        sum += d[key](n)\n",
    "    return sum\n",
    "    \n",
    "print('\\033[1m'+\"total of square, cube & sqroot:\",addi(n))   ## in bold for better view"
   ]
  },
  {
   "cell_type": "markdown",
   "metadata": {},
   "source": [
    "__3. Find the fruits that are sour in taste from the tuple given below.__\n"
   ]
  },
  {
   "cell_type": "code",
   "execution_count": 16,
   "metadata": {
    "colab": {
     "base_uri": "https://localhost:8080/"
    },
    "id": "QWgMyNdNTNL-",
    "outputId": "d220ae79-16fa-4f77-b031-d071f891f99c"
   },
   "outputs": [
    {
     "name": "stdout",
     "output_type": "stream",
     "text": [
      "Sour Fruits: ['Lemon', 'Grapes', 'Kiwi', 'Orange', 'Limes']\n"
     ]
    }
   ],
   "source": [
    "fruits = (('Lemon','sour'),\n",
    "('DragonFruit', 'Sweet'),\n",
    "('Grapes','soUr'),\n",
    "('Kiwi','Sour'),\n",
    "('Apples','sweet'),\n",
    "('Orange','sour'),\n",
    "('Blueberries','sweet'),\n",
    "('Limes','Sour')\n",
    ")\n",
    "sf=[]\n",
    "for i in fruits:\n",
    " \n",
    "  if i[1] in ['Sour','sour','soUr']:     ## checking for given char in fruits\n",
    "    sf.append(i[0])\n",
    "print('Sour Fruits:',sf)\n",
    "  \n",
    "  "
   ]
  },
  {
   "cell_type": "markdown",
   "metadata": {},
   "source": [
    "4. A list of words is given. Find the words from the list that have their\n",
    "second character in uppercase."
   ]
  },
  {
   "cell_type": "code",
   "execution_count": 6,
   "metadata": {},
   "outputs": [
    {
     "name": "stdout",
     "output_type": "stream",
     "text": [
      "second character in uppercase: ['hOw', 'ARe']\n"
     ]
    }
   ],
   "source": [
    "ls = ['hello', 'Dear', 'hOw', 'ARe', 'You']\n",
    "ls1=[i for i in ls if i[1].isupper()]              ## extracting second uppercase char\n",
    "print('second character in uppercase:',ls1 )"
   ]
  },
  {
   "cell_type": "markdown",
   "metadata": {},
   "source": [
    "__5. A dictionary of names and their weights on earth is given. Find how\n",
    "much they will weigh on the moon. (Use map and lambda functions)__\n"
   ]
  },
  {
   "cell_type": "code",
   "execution_count": 7,
   "metadata": {
    "colab": {
     "base_uri": "https://localhost:8080/",
     "height": 231
    },
    "id": "G6KslLPZem0l",
    "outputId": "200dc3db-51e9-4b6f-cd03-b0e51db6d032"
   },
   "outputs": [
    {
     "data": {
      "text/plain": [
       "{'John': 7.44, 'Shelly': 10.75, 'Marry': 5.79}"
      ]
     },
     "execution_count": 7,
     "metadata": {},
     "output_type": "execute_result"
    }
   ],
   "source": [
    "WeightOnEarth = {'John':45, 'Shelly':65, 'Marry':35}\n",
    "GMoon = 1.622\n",
    "GEarth = 9.81\n",
    "dict(map(lambda x : (x, round((WeightOnEarth[x]/GEarth)*GMoon, 2)), WeightOnEarth))\n",
    "\n",
    "## not work on google colab  ## round upto 2 decimal"
   ]
  },
  {
   "cell_type": "markdown",
   "metadata": {},
   "source": [
    "__6. Write a program to fetch the words from the given list which have their\n",
    "first character in uppercase__"
   ]
  },
  {
   "cell_type": "code",
   "execution_count": 20,
   "metadata": {},
   "outputs": [
    {
     "name": "stdout",
     "output_type": "stream",
     "text": [
      "first character in uppercase: ['Maria', 'World', 'You', 'Hello', 'Merry']\n"
     ]
    }
   ],
   "source": [
    "namesList = ['santa Maria', 'Hello World','Merry christmas', 'tHank You']\n",
    "new=[i.split(' ')[0] for i in namesList]\n",
    "new2=[i.split(' ')[1] for i in namesList]\n",
    "l2=[ x for x in new2 if x[0].isupper()]   ## checking first uppercase letter \n",
    "l1=[ x for x in new if x[0].isupper()]\n",
    "l3=l2+l1\n",
    "print('first character in uppercase:',l3)"
   ]
  },
  {
   "cell_type": "markdown",
   "metadata": {},
   "source": [
    "__7. A list containing multiple lists is given. Convert each inner list into sets\n",
    "and find the intersection of all the sets.__"
   ]
  },
  {
   "cell_type": "code",
   "execution_count": 9,
   "metadata": {
    "id": "72btXwzTe0fT"
   },
   "outputs": [
    {
     "name": "stdout",
     "output_type": "stream",
     "text": [
      "{8, 3}\n"
     ]
    }
   ],
   "source": [
    "a = [[1, 2, 3, 4, 8], [2, 3, 8, 5, 6], [8, 4, 5, 3, 7], [6, 9, 8, 3], [9,\n",
    "12, 3, 7, 6, 8, 4, 6, 21, 1, 6]]\n",
    "res = [set(ele) for ele in a]\n",
    "print(res[0].intersection(*res))     ###?"
   ]
  },
  {
   "cell_type": "markdown",
   "metadata": {},
   "source": [
    "__8. Find the cumulative average of the list [9,8,7,6,5] using accumulate()\n",
    "and lambda function.__"
   ]
  },
  {
   "cell_type": "code",
   "execution_count": 11,
   "metadata": {},
   "outputs": [
    {
     "name": "stdout",
     "output_type": "stream",
     "text": [
      "cumulative average: [9, 8.5, 8.0, 7.5, 7.0]\n"
     ]
    }
   ],
   "source": [
    "a= [9,8,7,6,5]\n",
    "import itertools as it\n",
    "l=[]\n",
    "l = it.accumulate(list(enumerate(a)), lambda x,y: (y[0], (x[1]*(x[0]+1) + y[1])/(y[0]+1)))    ##using enumerate\n",
    "print('cumulative average:',list(map(lambda x: x[1], l)))"
   ]
  },
  {
   "cell_type": "markdown",
   "metadata": {},
   "source": [
    "__9. A list of words is given. Convert the words into uppercase. Use lambda\n",
    "and map functions.__"
   ]
  },
  {
   "cell_type": "code",
   "execution_count": 18,
   "metadata": {},
   "outputs": [
    {
     "data": {
      "text/plain": [
       "['TRUE', 'FALSE', 'TRUE', 'TRUE', 'FALSE', 'FALSE']"
      ]
     },
     "execution_count": 18,
     "metadata": {},
     "output_type": "execute_result"
    }
   ],
   "source": [
    "lsbool = ['True','FALse','tRUe','tRue','False','faLse']\n",
    "out = map(lambda x:x.upper(), lsbool)    ## making upper case\n",
    "output = list(out)\n",
    "output"
   ]
  },
  {
   "cell_type": "markdown",
   "metadata": {},
   "source": [
    "__10. A list of dates (dd-mm-yyyy)in the form of string is given below.\n",
    "Create a new list that stores years i.e. the 'yyyy' part from the dates in\n",
    "the given list.__"
   ]
  },
  {
   "cell_type": "code",
   "execution_count": 17,
   "metadata": {},
   "outputs": [
    {
     "name": "stdout",
     "output_type": "stream",
     "text": [
      "years: ['1997', '2011', '1993', '2020']\n"
     ]
    }
   ],
   "source": [
    "a=[]\n",
    "datesList = ['17-12-1997','22-04-2011','01-05-1993','19-06-2020']\n",
    "for i in datesList:\n",
    "    a.append(i[6:])          ## extracting year only\n",
    "print(\"years:\",a)"
   ]
  },
  {
   "cell_type": "code",
   "execution_count": null,
   "metadata": {},
   "outputs": [],
   "source": []
  }
 ],
 "metadata": {
  "colab": {
   "collapsed_sections": [],
   "name": "Welcome To Colaboratory",
   "provenance": []
  },
  "kernelspec": {
   "display_name": "Python 3",
   "language": "python",
   "name": "python3"
  },
  "language_info": {
   "codemirror_mode": {
    "name": "ipython",
    "version": 3
   },
   "file_extension": ".py",
   "mimetype": "text/x-python",
   "name": "python",
   "nbconvert_exporter": "python",
   "pygments_lexer": "ipython3",
   "version": "3.8.8"
  }
 },
 "nbformat": 4,
 "nbformat_minor": 1
}
